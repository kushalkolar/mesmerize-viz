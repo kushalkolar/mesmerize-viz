{
 "cells": [
  {
   "cell_type": "code",
   "execution_count": 1,
   "id": "3fda66e1-0973-4fba-bac4-31a44c8cbfa2",
   "metadata": {
    "tags": []
   },
   "outputs": [],
   "source": [
    "import numpy as np"
   ]
  },
  {
   "cell_type": "code",
   "execution_count": 2,
   "id": "e4d01194-8f05-4221-821f-3550e7e039f7",
   "metadata": {},
   "outputs": [],
   "source": [
    "from mesmerize_viz.mcorrviewer import MCorrViewer\n",
    "from mesmerize_viz.selectviewer import SelectViewer\n",
    "from mesmerize_viz.dataframeviewer import DataFrameViewer\n",
    "from mesmerize_core import load_batch, set_parent_raw_data_path"
   ]
  },
  {
   "cell_type": "code",
   "execution_count": 3,
   "id": "1225545f-9056-435e-bfef-53ff98376c8e",
   "metadata": {},
   "outputs": [],
   "source": [
    "set_parent_raw_data_path(\"/home/caitlin/caiman_data/\")\n",
    "\n",
    "batch_path = \"/home/caitlin/caiman_data/mesmerize-core-batch/batch2.pickle\"\n",
    "\n",
    "df = load_batch(batch_path)"
   ]
  },
  {
   "cell_type": "code",
   "execution_count": 4,
   "id": "4fba5bc7-4d33-4a75-8770-e370e726fb1f",
   "metadata": {},
   "outputs": [
    {
     "data": {
      "application/vnd.jupyter.widget-view+json": {
       "model_id": "7afe858f2f8646a788d8d41bc037b761",
       "version_major": 2,
       "version_minor": 0
      },
      "text/plain": [
       "RFBOutputContext()"
      ]
     },
     "metadata": {},
     "output_type": "display_data"
    },
    {
     "name": "stderr",
     "output_type": "stream",
     "text": [
      "/home/clewis7/repos/mesmerize-viz/mesmerize_viz/mcorrviewer.py:75: FutureWarning: You are trying to use the following experimental feature, this maybe change in the future without warning:\n",
      "CaimanSeriesExtensions.get_input_movie\n",
      "\n",
      "\n",
      "  input=r.caiman.get_input_movie(),\n"
     ]
    }
   ],
   "source": [
    "mv = MCorrViewer(dataframe=df)\n",
    "sv = SelectViewer(grid_plot_shape=(2,3))\n",
    "dfv = DataFrameViewer(mv, sv)"
   ]
  },
  {
   "cell_type": "code",
   "execution_count": 5,
   "id": "299b1a9c-c66a-4f41-8b52-77395265317a",
   "metadata": {},
   "outputs": [
    {
     "data": {
      "application/vnd.jupyter.widget-view+json": {
       "model_id": "adde71749e6c40b595a5a3f09bef14f2",
       "version_major": 2,
       "version_minor": 0
      },
      "text/plain": [
       "Tab(children=(VBox(children=(HBox(children=(Select(layout=Layout(height='200px'), options=('0: 🟢 my_movie', '1…"
      ]
     },
     "metadata": {},
     "output_type": "display_data"
    }
   ],
   "source": [
    "dfv.show()"
   ]
  },
  {
   "cell_type": "code",
   "execution_count": 6,
   "id": "eac8c4b3-3abe-4a81-bf88-76162b3c65db",
   "metadata": {},
   "outputs": [],
   "source": [
    "mv.grid_plot.subplots[0, 0].center_scene()"
   ]
  },
  {
   "cell_type": "code",
   "execution_count": null,
   "id": "fd1e4238-55f6-4f83-b4c1-aa755697dc8a",
   "metadata": {},
   "outputs": [],
   "source": []
  }
 ],
 "metadata": {
  "kernelspec": {
   "display_name": "Python 3 (ipykernel)",
   "language": "python",
   "name": "python3"
  },
  "language_info": {
   "codemirror_mode": {
    "name": "ipython",
    "version": 3
   },
   "file_extension": ".py",
   "mimetype": "text/x-python",
   "name": "python",
   "nbconvert_exporter": "python",
   "pygments_lexer": "ipython3",
   "version": "3.9.2"
  }
 },
 "nbformat": 4,
 "nbformat_minor": 5
}
