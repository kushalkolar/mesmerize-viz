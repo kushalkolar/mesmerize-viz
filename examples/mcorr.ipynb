{
 "cells": [
  {
   "cell_type": "code",
   "execution_count": 1,
   "id": "3fda66e1-0973-4fba-bac4-31a44c8cbfa2",
   "metadata": {
    "tags": []
   },
   "outputs": [],
   "source": [
    "import numpy as np"
   ]
  },
  {
   "cell_type": "code",
   "execution_count": 2,
   "id": "e4d01194-8f05-4221-821f-3550e7e039f7",
   "metadata": {},
   "outputs": [
    {
     "name": "stderr",
     "output_type": "stream",
     "text": [
      "2022-07-20 09:09:58.615566: I tensorflow/core/util/util.cc:169] oneDNN custom operations are on. You may see slightly different numerical results due to floating-point round-off errors from different computation orders. To turn them off, set the environment variable `TF_ENABLE_ONEDNN_OPTS=0`.\n",
      "2022-07-20 09:09:58.618491: W tensorflow/stream_executor/platform/default/dso_loader.cc:64] Could not load dynamic library 'libcudart.so.11.0'; dlerror: libcudart.so.11.0: cannot open shared object file: No such file or directory; LD_LIBRARY_PATH: /home/caitlin/python-venvs/mesmerize-napari/lib/python3.9/site-packages/cv2/../../lib64:\n",
      "2022-07-20 09:09:58.618501: I tensorflow/stream_executor/cuda/cudart_stub.cc:29] Ignore above cudart dlerror if you do not have a GPU set up on your machine.\n"
     ]
    }
   ],
   "source": [
    "from mesmerize_viz.mcorrviewer import MCorrViewer\n",
    "from mesmerize_viz.selectviewer import SelectViewer\n",
    "from mesmerize_viz.dataframeviewer import DataFrameViewer\n",
    "from mesmerize_core import load_batch, set_parent_raw_data_path"
   ]
  },
  {
   "cell_type": "code",
   "execution_count": 3,
   "id": "1225545f-9056-435e-bfef-53ff98376c8e",
   "metadata": {},
   "outputs": [],
   "source": [
    "set_parent_raw_data_path(\"/home/caitlin/caiman_data/\")\n",
    "\n",
    "batch_path = \"/home/caitlin/caiman_data/mesmerize-core-batch/batch2.pickle\"\n",
    "\n",
    "df = load_batch(batch_path)"
   ]
  },
  {
   "cell_type": "code",
   "execution_count": 4,
   "id": "4fba5bc7-4d33-4a75-8770-e370e726fb1f",
   "metadata": {},
   "outputs": [
    {
     "data": {
      "application/vnd.jupyter.widget-view+json": {
       "model_id": "ed3cdd884e1242d5881785ac31358759",
       "version_major": 2,
       "version_minor": 0
      },
      "text/plain": [
       "RFBOutputContext()"
      ]
     },
     "metadata": {},
     "output_type": "display_data"
    },
    {
     "name": "stderr",
     "output_type": "stream",
     "text": [
      "MESA-INTEL: warning: Performance support disabled, consider sysctl dev.i915.perf_stream_paranoid=0\n",
      "\n",
      "/home/caitlin/repos/mesmerize-viz/mesmerize_viz/mcorrviewer.py:75: FutureWarning: You are trying to use the following experimental feature, this maybe change in the future without warning:\n",
      "CaimanSeriesExtensions.get_input_movie\n",
      "\n",
      "\n",
      "  input=r.caiman.get_input_movie(),\n"
     ]
    }
   ],
   "source": [
    "mv = MCorrViewer(dataframe=df)\n",
    "sv = SelectViewer()\n",
    "dfv = DataFrameViewer(mv, sv)"
   ]
  },
  {
   "cell_type": "code",
   "execution_count": 5,
   "id": "299b1a9c-c66a-4f41-8b52-77395265317a",
   "metadata": {},
   "outputs": [
    {
     "data": {
      "application/vnd.jupyter.widget-view+json": {
       "model_id": "14d2aaf723bf4618a6e3c36e8a951dbb",
       "version_major": 2,
       "version_minor": 0
      },
      "text/plain": [
       "Tab(children=(VBox(children=(HBox(children=(Select(layout=Layout(height='200px'), options=('0: 🟢 my_movie', '1…"
      ]
     },
     "metadata": {},
     "output_type": "display_data"
    }
   ],
   "source": [
    "dfv.show()"
   ]
  },
  {
   "cell_type": "code",
   "execution_count": 6,
   "id": "eac8c4b3-3abe-4a81-bf88-76162b3c65db",
   "metadata": {},
   "outputs": [
    {
     "ename": "TypeError",
     "evalue": "'NoneType' object is not subscriptable",
     "output_type": "error",
     "traceback": [
      "\u001b[0;31m---------------------------------------------------------------------------\u001b[0m",
      "\u001b[0;31mTypeError\u001b[0m                                 Traceback (most recent call last)",
      "Input \u001b[0;32mIn [6]\u001b[0m, in \u001b[0;36m<cell line: 1>\u001b[0;34m()\u001b[0m\n\u001b[0;32m----> 1\u001b[0m \u001b[43mmv\u001b[49m\u001b[38;5;241;43m.\u001b[39;49m\u001b[43mgrid_plot\u001b[49m\u001b[38;5;241;43m.\u001b[39;49m\u001b[43msubplots\u001b[49m\u001b[43m[\u001b[49m\u001b[38;5;241;43m0\u001b[39;49m\u001b[43m,\u001b[49m\u001b[43m \u001b[49m\u001b[38;5;241;43m0\u001b[39;49m\u001b[43m]\u001b[49m\u001b[38;5;241;43m.\u001b[39;49m\u001b[43mcenter_scene\u001b[49m\u001b[43m(\u001b[49m\u001b[43m)\u001b[49m\n",
      "File \u001b[0;32m~/repos/fastplotlib/fastplotlib/subplot.py:116\u001b[0m, in \u001b[0;36mSubplot.center_scene\u001b[0;34m(self, zoom_padding)\u001b[0m\n\u001b[1;32m    114\u001b[0m \u001b[38;5;28;01mdef\u001b[39;00m \u001b[38;5;21mcenter_scene\u001b[39m(\u001b[38;5;28mself\u001b[39m, zoom_padding: \u001b[38;5;28mfloat\u001b[39m \u001b[38;5;241m=\u001b[39m \u001b[38;5;241m0.0\u001b[39m):\n\u001b[1;32m    115\u001b[0m     bsphere \u001b[38;5;241m=\u001b[39m \u001b[38;5;28mself\u001b[39m\u001b[38;5;241m.\u001b[39mscene\u001b[38;5;241m.\u001b[39mget_world_bounding_sphere()\n\u001b[0;32m--> 116\u001b[0m     target, distance \u001b[38;5;241m=\u001b[39m Vector3(\u001b[38;5;241m*\u001b[39m\u001b[43mbsphere\u001b[49m\u001b[43m[\u001b[49m\u001b[43m:\u001b[49m\u001b[38;5;241;43m-\u001b[39;49m\u001b[38;5;241;43m1\u001b[39;49m\u001b[43m]\u001b[49m), bsphere[\u001b[38;5;241m-\u001b[39m\u001b[38;5;241m1\u001b[39m]\n\u001b[1;32m    118\u001b[0m     \u001b[38;5;66;03m# this seems to work, not entirely sure why\u001b[39;00m\n\u001b[1;32m    119\u001b[0m     txy \u001b[38;5;241m=\u001b[39m \u001b[38;5;28mmax\u001b[39m(target\u001b[38;5;241m.\u001b[39mx, target\u001b[38;5;241m.\u001b[39my)\n",
      "\u001b[0;31mTypeError\u001b[0m: 'NoneType' object is not subscriptable"
     ]
    }
   ],
   "source": [
    "mv.grid_plot.subplots[0, 0].center_scene()"
   ]
  },
  {
   "cell_type": "code",
   "execution_count": null,
   "id": "5afce9e0-a5ba-4a38-97dd-93c07155e2d9",
   "metadata": {},
   "outputs": [],
   "source": []
  }
 ],
 "metadata": {
  "kernelspec": {
   "display_name": "Python 3 (ipykernel)",
   "language": "python",
   "name": "python3"
  },
  "language_info": {
   "codemirror_mode": {
    "name": "ipython",
    "version": 3
   },
   "file_extension": ".py",
   "mimetype": "text/x-python",
   "name": "python",
   "nbconvert_exporter": "python",
   "pygments_lexer": "ipython3",
   "version": "3.9.2"
  }
 },
 "nbformat": 4,
 "nbformat_minor": 5
}
