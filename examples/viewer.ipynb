{
 "cells": [
  {
   "cell_type": "code",
   "execution_count": 1,
   "id": "1f0d1743-6c1f-4c08-a127-3ba520bf04a1",
   "metadata": {
    "tags": []
   },
   "outputs": [],
   "source": [
    "import numpy as np"
   ]
  },
  {
   "cell_type": "code",
   "execution_count": 2,
   "id": "d2f91af9-838e-48f7-9466-f273448e1993",
   "metadata": {},
   "outputs": [],
   "source": [
    "from mesmerize_viz.viewer import Viewer\n",
    "from mesmerize_viz.selectviewer import SelectViewer\n",
    "from mesmerize_viz.dataframeviewer import DataFrameViewer\n",
    "from mesmerize_core import load_batch, set_parent_raw_data_path"
   ]
  },
  {
   "cell_type": "code",
   "execution_count": 3,
   "id": "d9956835-8213-4e1d-8f57-b9f62bd36e40",
   "metadata": {},
   "outputs": [],
   "source": [
    "set_parent_raw_data_path(\"/home/caitlin/caiman_data/\")\n",
    "\n",
    "batch_path = \"/home/caitlin/caiman_data/mesmerize-core-batch/batch2.pickle\"\n",
    "\n",
    "df = load_batch(batch_path)"
   ]
  },
  {
   "cell_type": "code",
   "execution_count": 5,
   "id": "0e7600a1-9250-4518-955f-6d890d987b3a",
   "metadata": {},
   "outputs": [
    {
     "data": {
      "application/vnd.jupyter.widget-view+json": {
       "model_id": "2df652c714eb4887b5b8cfabac768ba6",
       "version_major": 2,
       "version_minor": 0
      },
      "text/plain": [
       "RFBOutputContext()"
      ]
     },
     "metadata": {},
     "output_type": "display_data"
    }
   ],
   "source": [
    "v = Viewer(dataframe=df)\n",
    "sv = SelectViewer(grid_plot_shape=(2,3))\n",
    "dfv = DataFrameViewer(v, sv)"
   ]
  },
  {
   "cell_type": "code",
   "execution_count": 6,
   "id": "53c4d43a-19e9-4d60-9f61-fcec985ffce7",
   "metadata": {},
   "outputs": [
    {
     "data": {
      "application/vnd.jupyter.widget-view+json": {
       "model_id": "ac7df4e7468f4a488ff29af2c8bb4df6",
       "version_major": 2,
       "version_minor": 0
      },
      "text/plain": [
       "Tab(children=(VBox(children=(HBox(children=(Select(layout=Layout(height='200px'), options=('0: 🟢 my_movie', '1…"
      ]
     },
     "metadata": {},
     "output_type": "display_data"
    }
   ],
   "source": [
    "dfv.show()"
   ]
  },
  {
   "cell_type": "code",
   "execution_count": 7,
   "id": "e9211b1f-2741-445b-ae93-3c22376be4c6",
   "metadata": {},
   "outputs": [
    {
     "data": {
      "text/plain": [
       "PosixPath('/data/wasabi-remote/hantmanlab/from_tier2/Teena/Experiments/Mesoscale/Opto_inter_region')"
      ]
     },
     "execution_count": 7,
     "metadata": {},
     "output_type": "execute_result"
    }
   ],
   "source": [
    "set_parent_raw_data_path(\"/data/wasabi-remote/hantmanlab/from_tier2/Teena/Experiments/Mesoscale/Opto_inter_region/\")"
   ]
  },
  {
   "cell_type": "code",
   "execution_count": 8,
   "id": "82e9a1a6-4593-4969-985a-f53964a508f9",
   "metadata": {},
   "outputs": [],
   "source": [
    "df2 = load_batch(\"/data/wasabi-remote/hantmanlab/from_tier2/Teena/Experiments/Mesoscale/Opto_inter_region/mesmerize_batch/batch.pickle\")"
   ]
  },
  {
   "cell_type": "code",
   "execution_count": 9,
   "id": "e44df473-4350-4a19-95c0-79c1993ee95a",
   "metadata": {},
   "outputs": [
    {
     "data": {
      "application/vnd.jupyter.widget-view+json": {
       "model_id": "e7570083fc464452a00f761329cc8025",
       "version_major": 2,
       "version_minor": 0
      },
      "text/plain": [
       "RFBOutputContext()"
      ]
     },
     "metadata": {},
     "output_type": "display_data"
    },
    {
     "name": "stderr",
     "output_type": "stream",
     "text": [
      "/home/clewis7/repos/mesmerize-viz/mesmerize_viz/viewer.py:102: FutureWarning: You are trying to use the following experimental feature, this maybe change in the future without warning:\n",
      "CaimanSeriesExtensions.get_input_movie\n",
      "\n",
      "\n",
      "  input=r.caiman.get_input_movie(),\n"
     ]
    }
   ],
   "source": [
    "v2 = Viewer(dataframe=df2)\n",
    "sv2 = SelectViewer(grid_plot_shape=(2,3), algo=\"cnmf\")\n",
    "dfv2 = DataFrameViewer(v2, sv2)"
   ]
  },
  {
   "cell_type": "code",
   "execution_count": 10,
   "id": "70cab065-6f15-46bf-976b-6635059d436e",
   "metadata": {},
   "outputs": [
    {
     "data": {
      "application/vnd.jupyter.widget-view+json": {
       "model_id": "75a4b90038504af2be8673869992c018",
       "version_major": 2,
       "version_minor": 0
      },
      "text/plain": [
       "Tab(children=(VBox(children=(HBox(children=(Select(layout=Layout(height='200px'), options=('0: 🟢 oit4-080721-a…"
      ]
     },
     "metadata": {},
     "output_type": "display_data"
    }
   ],
   "source": [
    "dfv2.show()"
   ]
  },
  {
   "cell_type": "code",
   "execution_count": null,
   "id": "f3c51ec3-d581-4348-8053-6671686cf349",
   "metadata": {},
   "outputs": [],
   "source": []
  }
 ],
 "metadata": {
  "kernelspec": {
   "display_name": "Python 3 (ipykernel)",
   "language": "python",
   "name": "python3"
  },
  "language_info": {
   "codemirror_mode": {
    "name": "ipython",
    "version": 3
   },
   "file_extension": ".py",
   "mimetype": "text/x-python",
   "name": "python",
   "nbconvert_exporter": "python",
   "pygments_lexer": "ipython3",
   "version": "3.9.2"
  }
 },
 "nbformat": 4,
 "nbformat_minor": 5
}
